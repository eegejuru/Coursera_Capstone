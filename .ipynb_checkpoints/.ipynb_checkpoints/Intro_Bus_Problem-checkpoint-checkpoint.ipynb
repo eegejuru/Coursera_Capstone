{
 "cells": [
  {
   "cell_type": "markdown",
   "metadata": {},
   "source": [
    "# The Greater London Borough Analysis"
   ]
  },
  {
   "cell_type": "markdown",
   "metadata": {},
   "source": [
    "### Introduction"
   ]
  },
  {
   "cell_type": "markdown",
   "metadata": {},
   "source": [
    "Greater London is categorised as a cosmopolitan city being the home to roughly 8.9 million people (Population estimates for the UK, England and Wales, Scotland and Northern Ireland: mid-2019) from diverse backgrounds, London is also one of the top financial capitals in Europe. This city is made up of 33 boroughs each having its own distinct characteristics. Choosing a location within Greater London boroughs to setup shop or to reside can be extremely difficult objective to achieve, however with the help of population data, crime data and location data from Foursquare, we will aid you in making a well-informed decision."
   ]
  },
  {
   "cell_type": "markdown",
   "metadata": {},
   "source": [
    "### Business Problem"
   ]
  },
  {
   "cell_type": "markdown",
   "metadata": {},
   "source": [
    "**In Greater London, which borough would be a better place to start up a business or live in?** By using data science methodology and machine learning techniques like K-Means Clustering the objective of this capstone project is to analyse gathered data and select the best borough in the Greater London which aims to provide an answer to the above question highlighted."
   ]
  },
  {
   "cell_type": "markdown",
   "metadata": {},
   "source": [
    "### Who would this report interest (Target Audience)"
   ]
  },
  {
   "cell_type": "markdown",
   "metadata": {},
   "source": [
    "Entrepreneurs set out to either start a business or expand their existing business in the Greater London \\\n",
    "Persons planning to move to Greater London and looking for the perfect location that will meet their expectations \\\n",
    "Upcoming data scientists that would like to have an insight to some of the most used techniques to obtain data, analyse it and finally, tell a story out of it.  \n"
   ]
  }
 ],
 "metadata": {
  "kernelspec": {
   "display_name": "Python",
   "language": "python",
   "name": "conda-env-python-py"
  },
  "language_info": {
   "codemirror_mode": {
    "name": "ipython",
    "version": 3
   },
   "file_extension": ".py",
   "mimetype": "text/x-python",
   "name": "python",
   "nbconvert_exporter": "python",
   "pygments_lexer": "ipython3",
   "version": "3.6.11"
  }
 },
 "nbformat": 4,
 "nbformat_minor": 4
}
